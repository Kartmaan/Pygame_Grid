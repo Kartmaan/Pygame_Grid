{
 "cells": [
  {
   "cell_type": "markdown",
   "metadata": {},
   "source": [
    "# How an interactive grid works with Pyagme"
   ]
  },
  {
   "cell_type": "code",
   "execution_count": 1,
   "metadata": {},
   "outputs": [
    {
     "name": "stdout",
     "output_type": "stream",
     "text": [
      "pygame 2.0.1 (SDL 2.0.14, Python 3.8.5)\n",
      "Hello from the pygame community. https://www.pygame.org/contribute.html\n"
     ]
    }
   ],
   "source": [
    "import numpy as np\n",
    "import pygame"
   ]
  },
  {
   "cell_type": "markdown",
   "metadata": {},
   "source": [
    "## Initialization of the first variables"
   ]
  },
  {
   "cell_type": "markdown",
   "metadata": {},
   "source": [
    "There are 3 values to be entered from which all proportion calculations will be made:\n",
    "- The dimensions of the surface (ideally square)\n",
    "- The dimensions of a cell (ideally square)\n",
    "- The margin between each of the cells\n",
    "\n",
    "In this example we will set the following values"
   ]
  },
  {
   "cell_type": "code",
   "execution_count": 2,
   "metadata": {},
   "outputs": [],
   "source": [
    "# Surface dimensions\n",
    "SURFACE_WIDTH = 300\n",
    "SURFACE_HEIGHT = 300\n",
    "\n",
    "# Cells dimensions\n",
    "CELL_WIDTH = 20\n",
    "CELL_HEIGHT = 20\n",
    "\n",
    "# Margin thickness\n",
    "MARGIN = 5"
   ]
  },
  {
   "cell_type": "markdown",
   "metadata": {},
   "source": [
    "From these values we can determine how many cells can contain each row. For this we divide the width of the surface by the width of a cell + the margin (the result of this division must be an integer, which is why we use the // operator)."
   ]
  },
  {
   "cell_type": "code",
   "execution_count": 3,
   "metadata": {},
   "outputs": [
    {
     "data": {
      "text/plain": [
       "12"
      ]
     },
     "execution_count": 3,
     "metadata": {},
     "output_type": "execute_result"
    }
   ],
   "source": [
    "cells_in_row = SURFACE_WIDTH // (CELL_WIDTH + MARGIN)\n",
    "cells_in_row"
   ]
  },
  {
   "cell_type": "markdown",
   "metadata": {},
   "source": [
    "## Array creation"
   ]
  },
  {
   "cell_type": "markdown",
   "metadata": {},
   "source": [
    "Assuming that the surface is square in shape, we will therefore have a grid of (cells_in_row x cells_in_row) cells. In our case it will therefore be a dimension of 12x12 cells\n",
    "\n",
    "The goal now is to create an array of the same dimension (a 2 dimensions array with a size of 12x12).\n",
    "\n",
    "Each of the values in this array will determine the state of a cell. In our case we will be satisfied with a binary system :\n",
    "0 = white cell, 1 = black cell.\n",
    "\n",
    "At the beginning of the program all the values of the array must be initialized to zero (all cells will be white).\n",
    "\n",
    "For the creation of this 12x12 array, we have a built-in method (without using modules) and a method with Numpy."
   ]
  },
  {
   "cell_type": "markdown",
   "metadata": {},
   "source": [
    "### Built-in method\n",
    "This method consists of creating a list of lists. In our case we will need 12 lists each containing 12 zeros"
   ]
  },
  {
   "cell_type": "code",
   "execution_count": 4,
   "metadata": {},
   "outputs": [
    {
     "data": {
      "text/plain": [
       "[[0, 0, 0, 0, 0, 0, 0, 0, 0, 0, 0, 0],\n",
       " [0, 0, 0, 0, 0, 0, 0, 0, 0, 0, 0, 0],\n",
       " [0, 0, 0, 0, 0, 0, 0, 0, 0, 0, 0, 0],\n",
       " [0, 0, 0, 0, 0, 0, 0, 0, 0, 0, 0, 0],\n",
       " [0, 0, 0, 0, 0, 0, 0, 0, 0, 0, 0, 0],\n",
       " [0, 0, 0, 0, 0, 0, 0, 0, 0, 0, 0, 0],\n",
       " [0, 0, 0, 0, 0, 0, 0, 0, 0, 0, 0, 0],\n",
       " [0, 0, 0, 0, 0, 0, 0, 0, 0, 0, 0, 0],\n",
       " [0, 0, 0, 0, 0, 0, 0, 0, 0, 0, 0, 0],\n",
       " [0, 0, 0, 0, 0, 0, 0, 0, 0, 0, 0, 0],\n",
       " [0, 0, 0, 0, 0, 0, 0, 0, 0, 0, 0, 0],\n",
       " [0, 0, 0, 0, 0, 0, 0, 0, 0, 0, 0, 0]]"
      ]
     },
     "execution_count": 4,
     "metadata": {},
     "output_type": "execute_result"
    }
   ],
   "source": [
    "grid = []\n",
    "for row in range(cells_in_row):\n",
    "    grid.append([])\n",
    "    for column in range(cells_in_row):\n",
    "        grid[row].append(0)\n",
    "\n",
    "grid"
   ]
  },
  {
   "cell_type": "markdown",
   "metadata": {},
   "source": [
    "### Numpy method\n",
    "Numpy has a very simple and practical method allowing to initialize all the values of an array, with the chosen dimensions, to zero. We will keep this method."
   ]
  },
  {
   "cell_type": "code",
   "execution_count": 5,
   "metadata": {},
   "outputs": [
    {
     "data": {
      "text/plain": [
       "array([[0, 0, 0, 0, 0, 0, 0, 0, 0, 0, 0, 0],\n",
       "       [0, 0, 0, 0, 0, 0, 0, 0, 0, 0, 0, 0],\n",
       "       [0, 0, 0, 0, 0, 0, 0, 0, 0, 0, 0, 0],\n",
       "       [0, 0, 0, 0, 0, 0, 0, 0, 0, 0, 0, 0],\n",
       "       [0, 0, 0, 0, 0, 0, 0, 0, 0, 0, 0, 0],\n",
       "       [0, 0, 0, 0, 0, 0, 0, 0, 0, 0, 0, 0],\n",
       "       [0, 0, 0, 0, 0, 0, 0, 0, 0, 0, 0, 0],\n",
       "       [0, 0, 0, 0, 0, 0, 0, 0, 0, 0, 0, 0],\n",
       "       [0, 0, 0, 0, 0, 0, 0, 0, 0, 0, 0, 0],\n",
       "       [0, 0, 0, 0, 0, 0, 0, 0, 0, 0, 0, 0],\n",
       "       [0, 0, 0, 0, 0, 0, 0, 0, 0, 0, 0, 0],\n",
       "       [0, 0, 0, 0, 0, 0, 0, 0, 0, 0, 0, 0]])"
      ]
     },
     "execution_count": 5,
     "metadata": {},
     "output_type": "execute_result"
    }
   ],
   "source": [
    "grid = np.zeros([cells_in_row, cells_in_row], dtype = int)\n",
    "grid"
   ]
  },
  {
   "cell_type": "markdown",
   "metadata": {},
   "source": [
    "This table is the digitized version of our grid, it's from this that the grid will be drawn and thanks to this that the states of each cell can be defined."
   ]
  },
  {
   "cell_type": "markdown",
   "metadata": {},
   "source": [
    "## Grid drawing"
   ]
  },
  {
   "cell_type": "code",
   "execution_count": 6,
   "metadata": {},
   "outputs": [],
   "source": [
    "WINDOW_SIZE = [SURFACE_WIDTH, SURFACE_HEIGHT]\n",
    "screen = pygame.display.set_mode(WINDOW_SIZE)\n",
    "\n",
    "BLACK = (0, 0, 0)\n",
    "WHITE = (255, 255, 255)"
   ]
  },
  {
   "cell_type": "markdown",
   "metadata": {},
   "source": [
    "These lines of code below make it possible to draw the grid based on the dimensions of a cell defined above (20x20) and those of the array created previously.\n",
    "\n",
    "This block must be integrated into the main loop of Pygame, so the grid redraws itself with each frame, changing the state of the cells according to the events"
   ]
  },
  {
   "cell_type": "code",
   "execution_count": 7,
   "metadata": {},
   "outputs": [],
   "source": [
    "for row in range(cells_in_row):\n",
    "        for column in range(cells_in_row):\n",
    "            color = WHITE\n",
    "            if grid[row][column] == 1:\n",
    "                color = BLACK\n",
    "            else :\n",
    "                color = WHITE\n",
    "            pygame.draw.rect(screen,\n",
    "                            color,\n",
    "                            [(MARGIN + CELL_WIDTH) * column + MARGIN,\n",
    "                            (MARGIN + CELL_HEIGHT) * row + MARGIN,\n",
    "                            CELL_WIDTH,\n",
    "                            CELL_HEIGHT])"
   ]
  },
  {
   "cell_type": "markdown",
   "metadata": {},
   "source": [
    "These two nested loops will draw rects (basic shape provided by Pygame) one after the other separated by a desired margin and this line by line, from left to right.\n",
    "\n",
    "On the first line a rect will be drawn 12 times (cells_in_row = 12), similarly for the following 11 lines, which will give a grid of 12 lines and 12 columns\n",
    "\n",
    "<center><img src=\"img/Grid_void.png\" width=300 height=300 /></center>"
   ]
  }
 ],
 "metadata": {
  "interpreter": {
   "hash": "7bdadbcc745afc9ac1e1714124e1bb5770ee7d86d26de672bb194e9104174d2a"
  },
  "kernelspec": {
   "display_name": "Python 3",
   "language": "python",
   "name": "python3"
  },
  "language_info": {
   "codemirror_mode": {
    "name": "ipython",
    "version": 3
   },
   "file_extension": ".py",
   "mimetype": "text/x-python",
   "name": "python",
   "nbconvert_exporter": "python",
   "pygments_lexer": "ipython3",
   "version": "3.8.5"
  }
 },
 "nbformat": 4,
 "nbformat_minor": 2
}
